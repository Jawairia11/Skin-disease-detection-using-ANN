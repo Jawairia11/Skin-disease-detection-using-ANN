{
 "cells": [
  {
   "cell_type": "code",
   "execution_count": 181,
   "id": "4b670809",
   "metadata": {},
   "outputs": [],
   "source": [
    "from PIL import Image \n",
    "import numpy as np \n",
    "import matplotlib.pyplot as plt \n",
    "from sklearn.model_selection import train_test_split\n",
    "from sklearn.preprocessing import StandardScaler\n",
    "import seaborn as sns\n",
    "import pandas as pd "
   ]
  },
  {
   "cell_type": "code",
   "execution_count": 182,
   "id": "01162949",
   "metadata": {},
   "outputs": [
    {
     "data": {
      "text/html": [
       "<div>\n",
       "<style scoped>\n",
       "    .dataframe tbody tr th:only-of-type {\n",
       "        vertical-align: middle;\n",
       "    }\n",
       "\n",
       "    .dataframe tbody tr th {\n",
       "        vertical-align: top;\n",
       "    }\n",
       "\n",
       "    .dataframe thead th {\n",
       "        text-align: right;\n",
       "    }\n",
       "</style>\n",
       "<table border=\"1\" class=\"dataframe\">\n",
       "  <thead>\n",
       "    <tr style=\"text-align: right;\">\n",
       "      <th></th>\n",
       "      <th>pixel0000</th>\n",
       "      <th>pixel0001</th>\n",
       "      <th>pixel0002</th>\n",
       "      <th>pixel0003</th>\n",
       "      <th>pixel0004</th>\n",
       "      <th>pixel0005</th>\n",
       "      <th>pixel0006</th>\n",
       "      <th>pixel0007</th>\n",
       "      <th>pixel0008</th>\n",
       "      <th>pixel0009</th>\n",
       "      <th>...</th>\n",
       "      <th>pixel2343</th>\n",
       "      <th>pixel2344</th>\n",
       "      <th>pixel2345</th>\n",
       "      <th>pixel2346</th>\n",
       "      <th>pixel2347</th>\n",
       "      <th>pixel2348</th>\n",
       "      <th>pixel2349</th>\n",
       "      <th>pixel2350</th>\n",
       "      <th>pixel2351</th>\n",
       "      <th>label</th>\n",
       "    </tr>\n",
       "  </thead>\n",
       "  <tbody>\n",
       "    <tr>\n",
       "      <th>0</th>\n",
       "      <td>192</td>\n",
       "      <td>153</td>\n",
       "      <td>193</td>\n",
       "      <td>195</td>\n",
       "      <td>155</td>\n",
       "      <td>192</td>\n",
       "      <td>197</td>\n",
       "      <td>154</td>\n",
       "      <td>185</td>\n",
       "      <td>202</td>\n",
       "      <td>...</td>\n",
       "      <td>173</td>\n",
       "      <td>124</td>\n",
       "      <td>138</td>\n",
       "      <td>183</td>\n",
       "      <td>147</td>\n",
       "      <td>166</td>\n",
       "      <td>185</td>\n",
       "      <td>154</td>\n",
       "      <td>177</td>\n",
       "      <td>2</td>\n",
       "    </tr>\n",
       "    <tr>\n",
       "      <th>1</th>\n",
       "      <td>25</td>\n",
       "      <td>14</td>\n",
       "      <td>30</td>\n",
       "      <td>68</td>\n",
       "      <td>48</td>\n",
       "      <td>75</td>\n",
       "      <td>123</td>\n",
       "      <td>93</td>\n",
       "      <td>126</td>\n",
       "      <td>158</td>\n",
       "      <td>...</td>\n",
       "      <td>60</td>\n",
       "      <td>39</td>\n",
       "      <td>55</td>\n",
       "      <td>25</td>\n",
       "      <td>14</td>\n",
       "      <td>28</td>\n",
       "      <td>25</td>\n",
       "      <td>14</td>\n",
       "      <td>27</td>\n",
       "      <td>2</td>\n",
       "    </tr>\n",
       "    <tr>\n",
       "      <th>2</th>\n",
       "      <td>192</td>\n",
       "      <td>138</td>\n",
       "      <td>153</td>\n",
       "      <td>200</td>\n",
       "      <td>145</td>\n",
       "      <td>163</td>\n",
       "      <td>201</td>\n",
       "      <td>142</td>\n",
       "      <td>160</td>\n",
       "      <td>206</td>\n",
       "      <td>...</td>\n",
       "      <td>167</td>\n",
       "      <td>129</td>\n",
       "      <td>143</td>\n",
       "      <td>159</td>\n",
       "      <td>124</td>\n",
       "      <td>142</td>\n",
       "      <td>136</td>\n",
       "      <td>104</td>\n",
       "      <td>117</td>\n",
       "      <td>2</td>\n",
       "    </tr>\n",
       "    <tr>\n",
       "      <th>3</th>\n",
       "      <td>38</td>\n",
       "      <td>19</td>\n",
       "      <td>30</td>\n",
       "      <td>95</td>\n",
       "      <td>59</td>\n",
       "      <td>72</td>\n",
       "      <td>143</td>\n",
       "      <td>103</td>\n",
       "      <td>119</td>\n",
       "      <td>171</td>\n",
       "      <td>...</td>\n",
       "      <td>44</td>\n",
       "      <td>26</td>\n",
       "      <td>36</td>\n",
       "      <td>25</td>\n",
       "      <td>12</td>\n",
       "      <td>17</td>\n",
       "      <td>25</td>\n",
       "      <td>12</td>\n",
       "      <td>15</td>\n",
       "      <td>2</td>\n",
       "    </tr>\n",
       "    <tr>\n",
       "      <th>4</th>\n",
       "      <td>158</td>\n",
       "      <td>113</td>\n",
       "      <td>139</td>\n",
       "      <td>194</td>\n",
       "      <td>144</td>\n",
       "      <td>174</td>\n",
       "      <td>215</td>\n",
       "      <td>162</td>\n",
       "      <td>191</td>\n",
       "      <td>225</td>\n",
       "      <td>...</td>\n",
       "      <td>209</td>\n",
       "      <td>166</td>\n",
       "      <td>185</td>\n",
       "      <td>172</td>\n",
       "      <td>135</td>\n",
       "      <td>149</td>\n",
       "      <td>109</td>\n",
       "      <td>78</td>\n",
       "      <td>92</td>\n",
       "      <td>2</td>\n",
       "    </tr>\n",
       "  </tbody>\n",
       "</table>\n",
       "<p>5 rows × 2353 columns</p>\n",
       "</div>"
      ],
      "text/plain": [
       "   pixel0000  pixel0001  pixel0002  pixel0003  pixel0004  pixel0005  \\\n",
       "0        192        153        193        195        155        192   \n",
       "1         25         14         30         68         48         75   \n",
       "2        192        138        153        200        145        163   \n",
       "3         38         19         30         95         59         72   \n",
       "4        158        113        139        194        144        174   \n",
       "\n",
       "   pixel0006  pixel0007  pixel0008  pixel0009  ...  pixel2343  pixel2344  \\\n",
       "0        197        154        185        202  ...        173        124   \n",
       "1        123         93        126        158  ...         60         39   \n",
       "2        201        142        160        206  ...        167        129   \n",
       "3        143        103        119        171  ...         44         26   \n",
       "4        215        162        191        225  ...        209        166   \n",
       "\n",
       "   pixel2345  pixel2346  pixel2347  pixel2348  pixel2349  pixel2350  \\\n",
       "0        138        183        147        166        185        154   \n",
       "1         55         25         14         28         25         14   \n",
       "2        143        159        124        142        136        104   \n",
       "3         36         25         12         17         25         12   \n",
       "4        185        172        135        149        109         78   \n",
       "\n",
       "   pixel2351  label  \n",
       "0        177      2  \n",
       "1         27      2  \n",
       "2        117      2  \n",
       "3         15      2  \n",
       "4         92      2  \n",
       "\n",
       "[5 rows x 2353 columns]"
      ]
     },
     "execution_count": 182,
     "metadata": {},
     "output_type": "execute_result"
    }
   ],
   "source": [
    "df = pd.read_csv(\"hmnist_28_28_RGB.csv\")\n",
    "df.head()"
   ]
  },
  {
   "cell_type": "markdown",
   "id": "c9241ef5",
   "metadata": {},
   "source": [
    " We have 28 * 28 = 784\n",
    "    \n",
    "RGB have 3 channels one for R , one for G and one for B  . so 784 + 784 + 784 = 2352 , So is the size of our data "
   ]
  },
  {
   "cell_type": "code",
   "execution_count": 183,
   "id": "89dfd7b9",
   "metadata": {},
   "outputs": [
    {
     "data": {
      "text/plain": [
       "(10015, 2353)"
      ]
     },
     "execution_count": 183,
     "metadata": {},
     "output_type": "execute_result"
    }
   ],
   "source": [
    "df.shape"
   ]
  },
  {
   "cell_type": "code",
   "execution_count": 184,
   "id": "6658b39f",
   "metadata": {},
   "outputs": [
    {
     "data": {
      "image/png": "[encoded data removed]",
      "text/plain": [
       "<Figure size 640x480 with 1 Axes>"
      ]
     },
     "metadata": {},
     "output_type": "display_data"
    }
   ],
   "source": [
    "a = df.iloc[0, 0:2352]\n",
    "arr = np.array(a)\n",
    "arr_1 = arr.reshape(28, 28, 3)\n",
    "plt.imshow(arr_1);"
   ]
  },
  {
   "cell_type": "code",
   "execution_count": 185,
   "id": "13ca646a",
   "metadata": {},
   "outputs": [],
   "source": [
    "image_data = df.iloc[:, 0:2352].values"
   ]
  },
  {
   "cell_type": "code",
   "execution_count": 186,
   "id": "2cb9140f",
   "metadata": {},
   "outputs": [
    {
     "data": {
      "text/plain": [
       "10015"
      ]
     },
     "execution_count": 186,
     "metadata": {},
     "output_type": "execute_result"
    }
   ],
   "source": [
    "num_images = image_data.shape[0]\n",
    "num_images"
   ]
  },
  {
   "cell_type": "code",
   "execution_count": 187,
   "id": "d9a915bf",
   "metadata": {},
   "outputs": [
    {
     "data": {
      "text/plain": [
       "numpy.ndarray"
      ]
     },
     "execution_count": 187,
     "metadata": {},
     "output_type": "execute_result"
    },
    {
     "data": {
      "image/png": "[encoded data removed]",
      "text/plain": [
       "<Figure size 640x480 with 1 Axes>"
      ]
     },
     "metadata": {},
     "output_type": "display_data"
    }
   ],
   "source": [
    "plt.imshow(image_data[0].reshape(28, 28, 3))\n",
    "type(image_data)"
   ]
  },
  {
   "cell_type": "code",
   "execution_count": 188,
   "id": "15442225",
   "metadata": {},
   "outputs": [
    {
     "data": {
      "text/plain": [
       "array([[[[192, 153, 193],\n",
       "         [195, 155, 192],\n",
       "         [197, 154, 185],\n",
       "         ...,\n",
       "         [193, 144, 153],\n",
       "         [197, 154, 163],\n",
       "         [194, 152, 160]],\n",
       "\n",
       "        [[197, 162, 202],\n",
       "         [201, 160, 197],\n",
       "         [202, 160, 193],\n",
       "         ...,\n",
       "         [194, 147, 149],\n",
       "         [198, 158, 166],\n",
       "         [192, 153, 167]],\n",
       "\n",
       "        [[197, 155, 193],\n",
       "         [198, 154, 185],\n",
       "         [202, 156, 191],\n",
       "         ...,\n",
       "         [194, 149, 152],\n",
       "         [199, 161, 177],\n",
       "         [194, 156, 175]],\n",
       "\n",
       "        ...,\n",
       "\n",
       "        [[194, 157, 191],\n",
       "         [206, 173, 206],\n",
       "         [206, 165, 192],\n",
       "         ...,\n",
       "         [191, 155, 183],\n",
       "         [193, 159, 187],\n",
       "         [193, 163, 197]],\n",
       "\n",
       "        [[187, 154, 185],\n",
       "         [203, 171, 199],\n",
       "         [202, 161, 183],\n",
       "         ...,\n",
       "         [178, 131, 148],\n",
       "         [187, 152, 174],\n",
       "         [190, 159, 189]],\n",
       "\n",
       "        [[171, 136, 164],\n",
       "         [191, 153, 179],\n",
       "         [196, 155, 176],\n",
       "         ...,\n",
       "         [173, 124, 138],\n",
       "         [183, 147, 166],\n",
       "         [185, 154, 177]]],\n",
       "\n",
       "\n",
       "       [[[ 25,  14,  30],\n",
       "         [ 68,  48,  75],\n",
       "         [123,  93, 126],\n",
       "         ...,\n",
       "         [123,  92,  99],\n",
       "         [ 79,  53,  74],\n",
       "         [ 59,  37,  62]],\n",
       "\n",
       "        [[ 42,  28,  49],\n",
       "         [ 97,  70,  97],\n",
       "         [144, 111, 145],\n",
       "         ...,\n",
       "         [141, 108, 110],\n",
       "         [ 98,  69,  78],\n",
       "         [ 63,  40,  63]],\n",
       "\n",
       "        [[ 67,  47,  69],\n",
       "         [121,  89, 111],\n",
       "         [160, 120, 155],\n",
       "         ...,\n",
       "         [160, 126, 137],\n",
       "         [122,  94, 102],\n",
       "         [ 77,  54,  74]],\n",
       "\n",
       "        ...,\n",
       "\n",
       "        [[ 63,  40,  66],\n",
       "         [ 97,  68,  93],\n",
       "         [141, 108, 125],\n",
       "         ...,\n",
       "         [122,  82,  84],\n",
       "         [ 71,  49,  63],\n",
       "         [ 25,  15,  31]],\n",
       "\n",
       "        [[ 61,  38,  62],\n",
       "         [ 75,  51,  80],\n",
       "         [117,  83, 108],\n",
       "         ...,\n",
       "         [ 91,  58,  64],\n",
       "         [ 38,  21,  34],\n",
       "         [ 22,  12,  26]],\n",
       "\n",
       "        [[ 65,  41,  63],\n",
       "         [ 65,  41,  68],\n",
       "         [ 92,  63,  91],\n",
       "         ...,\n",
       "         [ 60,  39,  55],\n",
       "         [ 25,  14,  28],\n",
       "         [ 25,  14,  27]]],\n",
       "\n",
       "\n",
       "       [[[192, 138, 153],\n",
       "         [200, 145, 163],\n",
       "         [201, 142, 160],\n",
       "         ...,\n",
       "         [181, 131, 145],\n",
       "         [167, 123, 142],\n",
       "         [143, 102, 118]],\n",
       "\n",
       "        [[199, 146, 161],\n",
       "         [201, 145, 166],\n",
       "         [205, 147, 172],\n",
       "         ...,\n",
       "         [190, 139, 157],\n",
       "         [180, 136, 160],\n",
       "         [156, 114, 133]],\n",
       "\n",
       "        [[200, 148, 169],\n",
       "         [206, 150, 170],\n",
       "         [208, 147, 168],\n",
       "         ...,\n",
       "         [198, 148, 171],\n",
       "         [189, 142, 168],\n",
       "         [166, 123, 142]],\n",
       "\n",
       "        ...,\n",
       "\n",
       "        [[200, 141, 165],\n",
       "         [196, 138, 140],\n",
       "         [190, 125, 112],\n",
       "         ...,\n",
       "         [201, 155, 181],\n",
       "         [185, 142, 163],\n",
       "         [165, 129, 142]],\n",
       "\n",
       "        [[196, 137, 154],\n",
       "         [194, 132, 136],\n",
       "         [190, 126, 116],\n",
       "         ...,\n",
       "         [184, 139, 156],\n",
       "         [168, 130, 147],\n",
       "         [150, 116, 131]],\n",
       "\n",
       "        [[192, 133, 143],\n",
       "         [195, 135, 144],\n",
       "         [194, 131, 135],\n",
       "         ...,\n",
       "         [167, 129, 143],\n",
       "         [159, 124, 142],\n",
       "         [136, 104, 117]]],\n",
       "\n",
       "\n",
       "       ...,\n",
       "\n",
       "\n",
       "       [[[132, 118, 118],\n",
       "         [167, 149, 149],\n",
       "         [175, 156, 160],\n",
       "         ...,\n",
       "         [193, 169, 165],\n",
       "         [157, 136, 125],\n",
       "         [128, 113, 103]],\n",
       "\n",
       "        [[150, 133, 133],\n",
       "         [189, 172, 180],\n",
       "         [191, 173, 182],\n",
       "         ...,\n",
       "         [206, 184, 184],\n",
       "         [153, 133, 124],\n",
       "         [143, 126, 116]],\n",
       "\n",
       "        [[167, 150, 154],\n",
       "         [199, 182, 192],\n",
       "         [199, 182, 192],\n",
       "         ...,\n",
       "         [218, 197, 199],\n",
       "         [160, 140, 134],\n",
       "         [156, 140, 131]],\n",
       "\n",
       "        ...,\n",
       "\n",
       "        [[190, 169, 175],\n",
       "         [196, 175, 177],\n",
       "         [219, 196, 203],\n",
       "         ...,\n",
       "         [196, 175, 168],\n",
       "         [185, 164, 156],\n",
       "         [195, 175, 171]],\n",
       "\n",
       "        [[189, 171, 181],\n",
       "         [194, 172, 173],\n",
       "         [209, 186, 188],\n",
       "         ...,\n",
       "         [204, 182, 178],\n",
       "         [188, 167, 162],\n",
       "         [188, 169, 164]],\n",
       "\n",
       "        [[179, 162, 170],\n",
       "         [201, 179, 186],\n",
       "         [206, 182, 181],\n",
       "         ...,\n",
       "         [204, 181, 178],\n",
       "         [181, 159, 153],\n",
       "         [172, 151, 145]]],\n",
       "\n",
       "\n",
       "       [[[160, 124, 146],\n",
       "         [164, 131, 152],\n",
       "         [167, 127, 146],\n",
       "         ...,\n",
       "         [184, 156, 161],\n",
       "         [185, 158, 165],\n",
       "         [184, 163, 171]],\n",
       "\n",
       "        [[160, 118, 138],\n",
       "         [162, 121, 140],\n",
       "         [166, 117, 137],\n",
       "         ...,\n",
       "         [188, 158, 168],\n",
       "         [185, 158, 167],\n",
       "         [181, 151, 159]],\n",
       "\n",
       "        [[164, 123, 142],\n",
       "         [164, 116, 135],\n",
       "         [169, 118, 139],\n",
       "         ...,\n",
       "         [191, 164, 177],\n",
       "         [191, 169, 181],\n",
       "         [188, 166, 174]],\n",
       "\n",
       "        ...,\n",
       "\n",
       "        [[168, 116, 141],\n",
       "         [172, 124, 148],\n",
       "         [179, 145, 165],\n",
       "         ...,\n",
       "         [189, 163, 175],\n",
       "         [191, 174, 186],\n",
       "         [185, 162, 174]],\n",
       "\n",
       "        [[169, 128, 149],\n",
       "         [167, 112, 134],\n",
       "         [175, 133, 154],\n",
       "         ...,\n",
       "         [189, 174, 182],\n",
       "         [187, 167, 178],\n",
       "         [189, 172, 184]],\n",
       "\n",
       "        [[166, 119, 141],\n",
       "         [173, 135, 155],\n",
       "         [174, 138, 155],\n",
       "         ...,\n",
       "         [185, 162, 167],\n",
       "         [184, 157, 166],\n",
       "         [185, 162, 172]]],\n",
       "\n",
       "\n",
       "       [[[175, 142, 121],\n",
       "         [181, 150, 134],\n",
       "         [181, 150, 133],\n",
       "         ...,\n",
       "         [190, 164, 162],\n",
       "         [193, 168, 169],\n",
       "         [185, 156, 153]],\n",
       "\n",
       "        [[179, 148, 129],\n",
       "         [178, 146, 128],\n",
       "         [180, 149, 131],\n",
       "         ...,\n",
       "         [188, 160, 155],\n",
       "         [189, 160, 157],\n",
       "         [184, 156, 151]],\n",
       "\n",
       "        [[180, 149, 130],\n",
       "         [179, 149, 128],\n",
       "         [176, 141, 118],\n",
       "         ...,\n",
       "         [182, 150, 134],\n",
       "         [184, 155, 147],\n",
       "         [183, 152, 140]],\n",
       "\n",
       "        ...,\n",
       "\n",
       "        [[168, 133, 100],\n",
       "         [169, 133, 104],\n",
       "         [169, 134, 100],\n",
       "         ...,\n",
       "         [161, 110,  86],\n",
       "         [166, 124,  94],\n",
       "         [176, 140, 119]],\n",
       "\n",
       "        [[172, 137, 110],\n",
       "         [171, 135, 109],\n",
       "         [172, 138, 108],\n",
       "         ...,\n",
       "         [162,  96,  87],\n",
       "         [169, 128, 105],\n",
       "         [176, 140, 124]],\n",
       "\n",
       "        [[172, 137, 113],\n",
       "         [171, 136, 107],\n",
       "         [173, 138, 109],\n",
       "         ...,\n",
       "         [159,  79,  82],\n",
       "         [174, 137, 125],\n",
       "         [175, 139, 126]]]], dtype=int64)"
      ]
     },
     "execution_count": 188,
     "metadata": {},
     "output_type": "execute_result"
    }
   ],
   "source": [
    "#reshaped_data =np.reshape( image_data,(10015, 28, 28, 3))\n",
    "reshaped_data = image_data.reshape(-1, 28, 28, 3)\n",
    "\n",
    "reshaped_data"
   ]
  },
  {
   "cell_type": "code",
   "execution_count": 189,
   "id": "36e82a38",
   "metadata": {},
   "outputs": [
    {
     "data": {
      "text/plain": [
       "(10015, 28, 28, 3)"
      ]
     },
     "execution_count": 189,
     "metadata": {},
     "output_type": "execute_result"
    }
   ],
   "source": [
    "reshaped_data.shape"
   ]
  },
  {
   "cell_type": "code",
   "execution_count": 190,
   "id": "f9b8832d",
   "metadata": {},
   "outputs": [
    {
     "data": {
      "image/png": "[encoded data removed]",
      "text/plain": [
       "<Figure size 1000x1000 with 9 Axes>"
      ]
     },
     "metadata": {},
     "output_type": "display_data"
    }
   ],
   "source": [
    "plt.figure(figsize=(10,10))\n",
    "\n",
    "num_images_to_visualize = 9\n",
    "\n",
    "for i in range(num_images_to_visualize):\n",
    "    plt.subplot(4,4,i+1)\n",
    "    image = reshaped_data[i]\n",
    "    plt.title(f\"Label : {df.iloc[i,0]}\")\n",
    "\n",
    "    plt.imshow(image)\n",
    "    plt.axis('off')\n",
    "plt.show()"
   ]
  },
  {
   "cell_type": "code",
   "execution_count": 191,
   "id": "1dd89361",
   "metadata": {},
   "outputs": [],
   "source": [
    "from tensorflow.keras.datasets import mnist\n",
    "from tensorflow.keras.models import Sequential\n",
    "from tensorflow.keras.layers import Dense\n",
    "import joblib\n",
    "import time "
   ]
  },
  {
   "cell_type": "code",
   "execution_count": 192,
   "id": "e50beafe",
   "metadata": {},
   "outputs": [],
   "source": [
    "X = df.drop('label' , axis =1 )\n",
    "y = df['label']"
   ]
  },
  {
   "cell_type": "code",
   "execution_count": 193,
   "id": "87c0919e",
   "metadata": {},
   "outputs": [],
   "source": [
    "scaler = StandardScaler()\n",
    "x_scaled = scaler.fit_transform(X)\n",
    "X= pd.DataFrame(x_scaled , columns = X.columns)"
   ]
  },
  {
   "cell_type": "code",
   "execution_count": 194,
   "id": "0894a93a",
   "metadata": {},
   "outputs": [
    {
     "name": "stdout",
     "output_type": "stream",
     "text": [
      "(7010, 2352) (7010,)\n",
      "(3005, 2352) (3005,)\n"
     ]
    }
   ],
   "source": [
    "xtrain,xtest,ytrain,ytest = train_test_split(X , y , test_size=0.3 , random_state= 25 , shuffle = True )\n",
    "\n",
    "print(xtrain.shape , ytrain.shape)\n",
    "print(xtest.shape , ytest.shape )"
   ]
  },
  {
   "cell_type": "code",
   "execution_count": 195,
   "id": "54b59440",
   "metadata": {},
   "outputs": [],
   "source": [
    "# Build a simple ANN architecture (input layer = 1 )\n",
    "\n",
    "cnnmodel = Sequential([\n",
    "    Dense(128, activation = 'relu' , input_shape=(2352, )),\n",
    "    Dense(64 , activation = 'relu'),\n",
    "    Dense(32, activation= 'relu'),\n",
    "    Dense(7, activation= 'softmax') ])"
   ]
  },
  {
   "cell_type": "code",
   "execution_count": 196,
   "id": "08661c0c",
   "metadata": {},
   "outputs": [],
   "source": [
    "cnnmodel.compile(optimizer = 'adam' , loss = 'sparse_categorical_crossentropy' , metrics = ['accuracy'])"
   ]
  },
  {
   "cell_type": "code",
   "execution_count": 197,
   "id": "fc5c6b85",
   "metadata": {},
   "outputs": [
    {
     "name": "stdout",
     "output_type": "stream",
     "text": [
      "Epoch 1/5\n",
      "877/877 [==============================] - 6s 6ms/step - loss: 0.9726 - accuracy: 0.6693 - val_loss: 0.8904 - val_accuracy: 0.6785\n",
      "Epoch 2/5\n",
      "877/877 [==============================] - 5s 5ms/step - loss: 0.8414 - accuracy: 0.6987 - val_loss: 0.8542 - val_accuracy: 0.6972\n",
      "Epoch 3/5\n",
      "877/877 [==============================] - 5s 5ms/step - loss: 0.7870 - accuracy: 0.7181 - val_loss: 0.8430 - val_accuracy: 0.6902\n",
      "Epoch 4/5\n",
      "877/877 [==============================] - 5s 5ms/step - loss: 0.7577 - accuracy: 0.7248 - val_loss: 0.8501 - val_accuracy: 0.6952\n",
      "Epoch 5/5\n",
      "877/877 [==============================] - 5s 6ms/step - loss: 0.7353 - accuracy: 0.7300 - val_loss: 0.7995 - val_accuracy: 0.7068\n"
     ]
    }
   ],
   "source": [
    "# Train the model on batchsize 8\n",
    "S = time.time()\n",
    "history=cnnmodel.fit(xtrain,ytrain , epochs=5, batch_size=8 , validation_data=(xtest , ytest))\n",
    "E = time.time()"
   ]
  },
  {
   "cell_type": "code",
   "execution_count": 198,
   "id": "591335a0",
   "metadata": {},
   "outputs": [
    {
     "name": "stdout",
     "output_type": "stream",
     "text": [
      "94/94 [==============================] - 0s 2ms/step - loss: 0.7995 - accuracy: 0.7068\n",
      "220/220 [==============================] - 0s 2ms/step - loss: 0.6843 - accuracy: 0.7498\n",
      "\n",
      " Train  Accuracy : 0.7497860193252563\n",
      "\n",
      " Test Accuracy : 0.7068219780921936\n",
      "\n",
      " Total time taken while training  24.762394428253174\n"
     ]
    }
   ],
   "source": [
    "#Evaluate the model \n",
    "test_loss , test_acc = cnnmodel.evaluate(xtest , ytest)\n",
    "train_loss , train_acc=cnnmodel.evaluate(xtrain, ytrain)\n",
    "\n",
    "print(f\"\\n Train  Accuracy : {train_acc}\") \n",
    "print(f\"\\n Test Accuracy : {test_acc}\") \n",
    "print(\"\\n Total time taken while training \" , E-S)\n"
   ]
  },
  {
   "cell_type": "code",
   "execution_count": 200,
   "id": "93e78d23",
   "metadata": {},
   "outputs": [
    {
     "data": {
      "image/png": "[encoded data removed]",
      "text/plain": [
       "<Figure size 640x480 with 1 Axes>"
      ]
     },
     "metadata": {},
     "output_type": "display_data"
    }
   ],
   "source": [
    "plt.plot(history.history['accuracy'] , label = 'training accuracy')\n",
    "plt.plot(history.history['val_accuracy'] , label = 'validation  accuracy')\n",
    "plt.xlabel(\"Epoch\")\n",
    "plt.ylabel(\"Accuracy\")\n",
    "plt.legend()\n",
    "plt.show()"
   ]
  },
  {
   "cell_type": "code",
   "execution_count": null,
   "id": "1cd8a7cf",
   "metadata": {},
   "outputs": [],
   "source": []
  },
  {
   "cell_type": "code",
   "execution_count": null,
   "id": "9a7d5309",
   "metadata": {},
   "outputs": [],
   "source": []
  }
 ],
 "metadata": {
  "kernelspec": {
   "display_name": "Python 3 (ipykernel)",
   "language": "python",
   "name": "python3"
  },
  "language_info": {
   "codemirror_mode": {
    "name": "ipython",
    "version": 3
   },
   "file_extension": ".py",
   "mimetype": "text/x-python",
   "name": "python",
   "nbconvert_exporter": "python",
   "pygments_lexer": "ipython3",
   "version": "3.11.3"
  }
 },
 "nbformat": 4,
 "nbformat_minor": 5
}
